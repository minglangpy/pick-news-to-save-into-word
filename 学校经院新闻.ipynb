{
 "cells": [
  {
   "cell_type": "code",
   "execution_count": null,
   "id": "5629ba05-840c-4039-8f7e-e284ced04e01",
   "metadata": {},
   "outputs": [],
   "source": [
    "https://jjxy.gdut.edu.cn/info/1071/6282.htm\n",
    "https://jjxy.gdut.edu.cn/info/1071/6259.htm\n",
    "\n",
    "https://jjxy.gdut.edu.cn/index/xw.htm\n",
    "https://jjxy.gdut.edu.cn/index/xw/65.htm\n",
    "\n",
    "<li class=\"clear wow fadeInUp\"><a href=\"../info/1071/6282.htm\" target=\"_blank\" title=\"我院开展国家社科基金选题与写作规范专题讲座\">我院开展国家社科基金选题与写作规范专题讲座<i>查看详情>></i></a><b>2023-11-02</b></li>\n",
    "\n",
    "\n",
    "https://jjxy.gdut.edu.cn/__local/F/ED/5B/21369BDCE19D6A8FFC31BD73628_120A7E4D_51E4F.jpg"
   ]
  },
  {
   "cell_type": "code",
   "execution_count": 6,
   "id": "232ad93d-b1b7-4f5d-acf6-89b4f9295aa2",
   "metadata": {},
   "outputs": [],
   "source": [
    "import requests\n",
    "import bs4\n",
    "import pandas as pd\n",
    "import numpy as np\n",
    "from docx import Document\n",
    "import re\n",
    "from docx.shared import Inches\n",
    "from PIL import Image\n",
    "from io import BytesIO\n",
    "from docx.oxml.shared import OxmlElement, qn\n",
    "from docx.enum.dml import MSO_THEME_COLOR\n",
    "from docx.enum.text import WD_ALIGN_PARAGRAPH\n",
    "import docx\n",
    "from docx.enum.text import WD_UNDERLINE\n",
    "from docx.shared import Pt\n",
    "def add_hyperlink(paragraph, url, text, color='0000FF', underline=True):  #chat4生成的自定义函数，用于往word里添加超链接\n",
    "    \"\"\"\n",
    "    A function that places a hyperlink within a paragraph object.\n",
    "\n",
    "    :param paragraph: The Paragraph to which the hyperlink will be added.\n",
    "    :param url: The URL of the hyperlink.\n",
    "    :param text: The text to be displayed for the hyperlink.\n",
    "    :param color: The color of the hyperlink - blue by default.\n",
    "    :param underline: Whether the hyperlink is underlined - True by default.\n",
    "    \"\"\"\n",
    "\n",
    "    # This gets access to the document.xml.rels file and gets a new relation id value\n",
    "    part = paragraph.part\n",
    "    r_id = part.relate_to(url, 'http://schemas.openxmlformats.org/officeDocument/2006/relationships/hyperlink', is_external=True)\n",
    "\n",
    "    # Create the w:hyperlink tag and set needed values\n",
    "    hyperlink = OxmlElement('w:hyperlink')\n",
    "    hyperlink.set(qn('r:id'), r_id, )\n",
    "    \n",
    "    # Create a w:r element and a new w:rPr element\n",
    "    new_run = OxmlElement('w:r')\n",
    "    rPr = OxmlElement('w:rPr')\n",
    "\n",
    "    # Add color if it is given\n",
    "    if not color.startswith('00'):\n",
    "        color = '00' + color\n",
    "    c = OxmlElement('w:color')\n",
    "    c.set(qn('w:val'), color)\n",
    "    rPr.append(c)\n",
    "\n",
    "    # Remove underlining if it is requested\n",
    "    if not underline:\n",
    "        u = OxmlElement('w:u')\n",
    "        u.set(qn('w:val'), 'none')\n",
    "        rPr.append(u)\n",
    "\n",
    "    new_run.append(rPr)\n",
    "    new_run.text = text\n",
    "    hyperlink.append(new_run)\n",
    "\n",
    "    paragraph._p.append(hyperlink)\n",
    "\n",
    "    return hyperlink"
   ]
  },
  {
   "cell_type": "markdown",
   "id": "eb8a8340-344e-48ce-84d6-678677bc9e06",
   "metadata": {},
   "source": [
    "先去首页找/info/1071/6259.htm的内容\n",
    "先尝试一个word文档的保存\n",
    "总的顺序\n",
    "找首页-》找单页-》提取单页的内容-》保存在word文档里输出"
   ]
  },
  {
   "cell_type": "code",
   "execution_count": 7,
   "id": "b9221a2a-19a5-47c1-ac16-5cb104c247b6",
   "metadata": {},
   "outputs": [],
   "source": [
    "\n",
    "def getoneword(ulist,n):\n",
    "    countzong=0\n",
    "    regex_rule = r\"/info/\\d+/\\d+\\.htm\"\n",
    "\n",
    "    # 使用re.compile()编译为正则表达式对象\n",
    "    pattern = re.compile(regex_rule)\n",
    "    try:\n",
    "        for i in ulist:\n",
    "            countzong+=1\n",
    "            try:\n",
    "                i=re.search(pattern,i).group(0)\n",
    "            except:\n",
    "                continue\n",
    "            url='https://jjxy.gdut.edu.cn'+i\n",
    "            request=requests.get(url)\n",
    "            request.encoding='UTF-8-SIG'\n",
    "            soup=bs4.BeautifulSoup(request.text,'html.parser')\n",
    "            a=soup.find('div',class_='show01').text.split('\\n')\n",
    "            b=soup.find('div',class_='show02')\n",
    "            c=b.find_all('p')\n",
    "            #获取图片的链接\n",
    "            d=[]\n",
    "            for i in b.find_all('img'):\n",
    "                d.append(i['src'])\n",
    "\n",
    "            #开始编写word\n",
    "            doc=Document()\n",
    "            # 设置全文的默认字体\n",
    "            style = doc.styles['Normal']\n",
    "            font = style.font\n",
    "            font.name = 'Arial'\n",
    "            font.size = Pt(12)\n",
    "            style.element.rPr.rFonts.set(qn('w:eastAsia'), '宋体')#设置中文字体\n",
    "\n",
    "            #插入超链接\n",
    "            lianjie = doc.add_paragraph('按住ctrl')\n",
    "            add_hyperlink(lianjie,url,'点击这里跳转')\n",
    "            #插入标题\n",
    "            P=doc.add_paragraph(f'{a[1]}')\n",
    "            P.alignment = WD_ALIGN_PARAGRAPH.CENTER  # 设置标题居中\n",
    "            P_font = P.style.font\n",
    "            P_font = P.runs[0].font  # 确保我们修改的是段落中第一个run的字体，有了这个就可以单独设置字体大小\n",
    "            P_font.name = 'Arial'\n",
    "            P_font.size = Pt(15)\n",
    "            P.style.element.rPr.rFonts.set(qn('w:eastAsia'), '宋体')\n",
    "            #插入时间\n",
    "            T=doc.add_paragraph(f'{a[2]}')\n",
    "            T.alignment = WD_ALIGN_PARAGRAPH.CENTER  # 设置标题居中\n",
    "            T_font = T.style.font\n",
    "            T_font = T.runs[0].font\n",
    "            T_font.name = 'Arial'\n",
    "            T_font.size = Pt(10)\n",
    "            T.style.element.rPr.rFonts.set(qn('w:eastAsia'), '宋体')\n",
    "            #插入内容和图片,p1内容，p11图片下的文字\n",
    "            count=0\n",
    "            try:\n",
    "                for i in c:\n",
    "\n",
    "                    if i.find()==None:\n",
    "                        p1=doc.add_paragraph(i.text)\n",
    "                        p1.paragraph_format.first_line_indent = Inches(0.5)\n",
    "                    else:\n",
    "                        if i.find('img')==None:\n",
    "                            p11=doc.add_paragraph(i.text)\n",
    "                            p11.alignment = WD_ALIGN_PARAGRAPH.CENTER  # 设置标题居中\n",
    "\n",
    "                        else:\n",
    "\n",
    "                            reimg=requests.get('https://jjxy.gdut.edu.cn/'+d[count])\n",
    "                            img_data = BytesIO(reimg.content)\n",
    "                            img = Image.open(img_data)\n",
    "                            img.save(str(count)+'.png')\n",
    "                            doc.add_picture(str(count)+'.png',width=Inches(6))\n",
    "                            count+=1\n",
    "\n",
    "\n",
    "                        print('\\r当前总进度：{:.2f}%'.format(countzong*100/int(n*10)),end='')#打印进度\n",
    "            except:\n",
    "                doc.add_paragraph('格式出现错误')\n",
    "            #使用 str.maketrans() 创建了一个字符映射表\n",
    "            #使用 str.translate() 方法应用这个映射表\n",
    "            safe_title = a[1].translate({ord(c): \"-\" for c in '\\/:*?\"<>|'})\n",
    "    \n",
    "            # 使用安全标题构造文件路径\n",
    "            file_path = f'C:\\\\Users\\\\wen\\\\Desktop\\\\经院新闻合集\\\\{safe_title}.docx'\n",
    "            doc.save(file_path)\n",
    "    except:\n",
    "        print(f'第{countzong+1}出错了')"
   ]
  },
  {
   "cell_type": "code",
   "execution_count": 8,
   "id": "d259b4f6-c284-45ab-ab37-f379b9d1b894",
   "metadata": {},
   "outputs": [],
   "source": [
    "def geturl(n,ulist=[]):\n",
    "    #提取整页的所有链接url\n",
    "    for i in range(n):\n",
    "        if i==0:\n",
    "            Url='https://jjxy.gdut.edu.cn/index/xw.htm'\n",
    "            response=requests.get(Url)\n",
    "            soup=bs4.BeautifulSoup(response.text,'html.parser')\n",
    "            list1=soup.find_all('li',class_=\"clear wow fadeInUp\")\n",
    "            list2=[i.find()['href'].replace('.','').replace('htm','.htm') for i in list1]\n",
    "            ulist=ulist+list2\n",
    "        else:\n",
    "            Url='https://jjxy.gdut.edu.cn/index/xw/'+str(66-i)+'.htm'\n",
    "            response=requests.get(Url)\n",
    "            soup=bs4.BeautifulSoup(response.text,'html.parser')\n",
    "            list1=soup.find_all('li',class_=\"clear wow fadeInUp\")\n",
    "            list2=[i.find()['href'].replace('.','').replace('htm','.htm') for i in list1]\n",
    "            ulist=ulist+list2\n",
    "    return ulist\n",
    "def main():\n",
    "\n",
    "    n=int(input('爬取页数：'))\n",
    "    getoneword(geturl(n,ulist=[]),n)"
   ]
  },
  {
   "cell_type": "code",
   "execution_count": 9,
   "id": "97137db6-cfde-4600-8899-f363f8a1df96",
   "metadata": {},
   "outputs": [
    {
     "name": "stdin",
     "output_type": "stream",
     "text": [
      "爬取页数： 24\n"
     ]
    },
    {
     "name": "stdout",
     "output_type": "stream",
     "text": [
      "当前总进度：100.00%"
     ]
    }
   ],
   "source": [
    "main()"
   ]
  },
  {
   "cell_type": "code",
   "execution_count": 87,
   "id": "02d3a7f5-c6a0-4da7-86ed-a9adf5d940ff",
   "metadata": {},
   "outputs": [
    {
     "data": {
      "text/plain": [
       "['/info/1071/6282.htm',\n",
       " '/info/1071/6259.htm',\n",
       " '/info/1071/6257.htm',\n",
       " '/info/1071/6225.htm',\n",
       " '/info/1071/6222.htm',\n",
       " '/info/1071/6216.htm',\n",
       " '/info/1071/6215.htm',\n",
       " '/info/1071/6192.htm',\n",
       " '/info/1071/6188.htm',\n",
       " '/info/1071/6185.htm',\n",
       " '//info/1071/6184.htm',\n",
       " '//info/1071/6183.htm',\n",
       " '//info/1071/6182.htm',\n",
       " '//info/1071/6174.htm',\n",
       " '//info/1071/6170.htm',\n",
       " '//info/1071/6169.htm',\n",
       " '//info/1071/6154.htm',\n",
       " '//info/1071/6153.htm',\n",
       " '//info/1071/6151.htm',\n",
       " '//info/1071/6150.htm',\n",
       " '//info/1071/6149.htm',\n",
       " '//info/1071/6147.htm',\n",
       " '//info/1071/6145.htm',\n",
       " '//info/1071/6196.htm',\n",
       " '//info/1071/6197.htm',\n",
       " '//info/1071/6125.htm',\n",
       " '//info/1071/6138.htm',\n",
       " '//info/1071/6136.htm',\n",
       " '//info/1071/6103.htm',\n",
       " '//info/1071/6104.htm']"
      ]
     },
     "execution_count": 87,
     "metadata": {},
     "output_type": "execute_result"
    }
   ],
   "source": [
    "geturl(3,ulist=[])"
   ]
  },
  {
   "cell_type": "code",
   "execution_count": 101,
   "id": "1321b680-39cf-4519-8644-413b38915411",
   "metadata": {},
   "outputs": [],
   "source": [
    "kv={'user-agent':'Mozilla/5.0'}#标准浏览器的开头\n",
    "url='https://jjxy.gdut.edu.cn'+'/info/1071/6282.htm'\n",
    "request=requests.get('https://jjxy.gdut.edu.cn/info/1071/6225.htm',headers=kv)\n",
    "request.encoding='UTF-8-SIG'\n",
    "soup=bs4.BeautifulSoup(request.text,'html.parser')"
   ]
  },
  {
   "cell_type": "code",
   "execution_count": 102,
   "id": "f8307cfc-b79f-4405-bec8-0043336e6e05",
   "metadata": {},
   "outputs": [],
   "source": [
    "a=soup.find('div',class_='show01').text.split('\\n')\n",
    "b=soup.find('div',class_='show02')\n",
    "c=b.find_all('p')"
   ]
  },
  {
   "cell_type": "code",
   "execution_count": 107,
   "id": "2075463b-d879-4b15-844e-2db18964bc91",
   "metadata": {},
   "outputs": [],
   "source": [
    "c[3].find('img')\n"
   ]
  },
  {
   "cell_type": "code",
   "execution_count": null,
   "id": "21ae2f65-be00-49d5-84f2-a6f8f66d0735",
   "metadata": {},
   "outputs": [],
   "source": [
    "url='https://jjxy.gdut.edu.cn/info/1071/6282htm'\n",
    "https://jjxy.gdut.edu.cn/info/1071/6282.htm\n",
    "<p style=\"text-align: center;\"><span style=\"font-size: 14px;\">冀祥德社长致辞</span></p>"
   ]
  },
  {
   "cell_type": "code",
   "execution_count": 94,
   "id": "c0f48a03-b450-41ed-855c-cfe544525ca3",
   "metadata": {},
   "outputs": [],
   "source": [
    "regex_rule = r\"/info/\\d+/\\d+\\.htm\"\n",
    "\n",
    "# 使用re.compile()编译为正则表达式对象\n",
    "pattern = re.compile(regex_rule)"
   ]
  },
  {
   "cell_type": "code",
   "execution_count": 97,
   "id": "034d4f50-8135-43b8-a6db-1dab844e57ee",
   "metadata": {},
   "outputs": [
    {
     "data": {
      "text/plain": [
       "'/info/1071/6145.htm'"
      ]
     },
     "execution_count": 97,
     "metadata": {},
     "output_type": "execute_result"
    }
   ],
   "source": [
    "re.search(pattern,'//info/1071/6145.htm').group()\n"
   ]
  },
  {
   "cell_type": "code",
   "execution_count": null,
   "id": "2a24fb73-3924-4a6a-9fcb-86c076fb7a0e",
   "metadata": {},
   "outputs": [],
   "source": []
  }
 ],
 "metadata": {
  "kernelspec": {
   "display_name": "Python 3 (ipykernel)",
   "language": "python",
   "name": "python3"
  },
  "language_info": {
   "codemirror_mode": {
    "name": "ipython",
    "version": 3
   },
   "file_extension": ".py",
   "mimetype": "text/x-python",
   "name": "python",
   "nbconvert_exporter": "python",
   "pygments_lexer": "ipython3",
   "version": "3.7.13"
  }
 },
 "nbformat": 4,
 "nbformat_minor": 5
}
